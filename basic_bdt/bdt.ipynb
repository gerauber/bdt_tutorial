{
 "cells": [
  {
   "cell_type": "markdown",
   "metadata": {},
   "source": [
    "# BDT \n",
    "\n",
    "##### author: G. Räuber, 2024\n",
    "\n",
    "\n",
    "## Content\n",
    "\n",
    "In this notebook, we will follow several steps:\n",
    "* Read a dataset (created with dataset/create_pkl.py)\n",
    "* Define two different classes\n",
    "* Define the input features\n",
    "* Define test and training sets\n",
    "* Fit a BDT on the training set, and then test its\n",
    "    * Performance - compute a ROC curve\n",
    "    * Reproducibility - look at potential overfitting issues\n",
    "* Plot the BDT output\n"
   ]
  },
  {
   "cell_type": "markdown",
   "metadata": {},
   "source": [
    "### Read dataset\n",
    "\n",
    "Read the Dataset that we created\n"
   ]
  },
  {
   "cell_type": "code",
   "execution_count": 1,
   "metadata": {},
   "outputs": [
    {
     "name": "stdout",
     "output_type": "stream",
     "text": [
      "create_pkl.py                 dataset_2classes_features.pdf\r\n",
      "dataset_2classes.pkl\r\n"
     ]
    }
   ],
   "source": [
    "# Look what is the name of your .pkl file\n",
    "!ls ../dataset"
   ]
  },
  {
   "cell_type": "code",
   "execution_count": 2,
   "metadata": {},
   "outputs": [
    {
     "name": "stdout",
     "output_type": "stream",
     "text": [
      "              a         b          c    d         e         f    g         h  \\\n",
      "0      3.863403  0.778973  12.946646  489  0.871213  0.033967  227  0.981583   \n",
      "1      5.046944 -0.442038  23.305970  509  0.600349  3.773768  234  0.513771   \n",
      "2      6.446498  1.500218  17.340156  504  2.235587  0.166467  251  2.038727   \n",
      "3      7.555237  0.227320   7.548010  486  3.726162  1.393235  251  0.522864   \n",
      "4      5.849820  1.143522   8.982487  477  7.757577  0.414826  239  2.865683   \n",
      "...         ...       ...        ...  ...       ...       ...  ...       ...   \n",
      "99995  5.291775 -0.449244   1.298263  460  7.275139  0.676796  280  1.019964   \n",
      "99996  6.696291  3.010353  14.831392  506  1.125645  0.116567  272  0.921327   \n",
      "99997  6.532237 -0.278088   3.923387  492  8.262313  0.172891  249  1.378034   \n",
      "99998  5.213979  0.505269  22.187842  509  2.441799  0.610413  254  0.485675   \n",
      "99999  7.748984  2.195952   9.598227  516  0.685071  1.201439  271  2.616782   \n",
      "\n",
      "              i         j  dataset  weight  \n",
      "0      1.336080  0.795312        2       1  \n",
      "1      1.422002  0.963959        1       1  \n",
      "2     -0.142134  0.761682        1       1  \n",
      "3     -0.501831  0.832177        1       1  \n",
      "4     -1.167011  0.644446        2       1  \n",
      "...         ...       ...      ...     ...  \n",
      "99995  1.309129  0.914109        1       1  \n",
      "99996  0.638908  0.923751        1       1  \n",
      "99997  0.260166  0.860722        1       1  \n",
      "99998 -0.678037  0.867635        1       1  \n",
      "99999  0.082304  0.998992        1       1  \n",
      "\n",
      "[100000 rows x 12 columns]\n"
     ]
    }
   ],
   "source": [
    "# Read the Dataframe:\n",
    "import pandas as pd\n",
    "df=pd.read_pickle('../dataset/dataset_2classes.pkl')\n",
    "\n",
    "# Print the Dataframe\n",
    "print(df)"
   ]
  },
  {
   "cell_type": "markdown",
   "metadata": {},
   "source": [
    "### Two classes\n",
    "\n",
    "Create two classes from the original Dataframe.\n",
    "\n",
    "The choice of having the events shuffled in the first place appears to be superfluous, \n",
    "but it will be needed once we apply the BDT on another Dataset\n"
   ]
  },
  {
   "cell_type": "code",
   "execution_count": 3,
   "metadata": {},
   "outputs": [
    {
     "name": "stdout",
     "output_type": "stream",
     "text": [
      "1    50000\n",
      "Name: dataset, dtype: int64\n",
      "2    50000\n",
      "Name: dataset, dtype: int64\n"
     ]
    }
   ],
   "source": [
    "# Create two different classes, based on the datasets\n",
    "df_cat1=df.query('dataset==1').reset_index(drop=True)\n",
    "df_cat2=df.query('dataset==2').reset_index(drop=True)\n",
    "\n",
    "# Verify the selection\n",
    "print(df_cat1['dataset'].value_counts())\n",
    "print(df_cat2['dataset'].value_counts())"
   ]
  },
  {
   "cell_type": "markdown",
   "metadata": {},
   "source": [
    "### Input features\n",
    "\n",
    "Define here the features that will be used as input of the BDT, \n",
    "and the weight that will be used in the method (by default set to 1)"
   ]
  },
  {
   "cell_type": "code",
   "execution_count": 4,
   "metadata": {},
   "outputs": [
    {
     "name": "stdout",
     "output_type": "stream",
     "text": [
      "['a', 'b', 'c', 'd', 'e', 'f', 'g', 'h', 'i', 'j', 'dataset', 'weight']\n"
     ]
    }
   ],
   "source": [
    "# Print the columns of your dataset\n",
    "cols=list(df_cat1.columns)\n",
    "print(cols)\n",
    "\n",
    "# Define the set of features used for the BDT\n",
    "feats=['a', 'b', 'c', 'd', 'e', 'f', 'g', 'h', 'i', 'j']\n",
    "\n",
    "# Define the weight\n",
    "wei='weight'"
   ]
  },
  {
   "cell_type": "markdown",
   "metadata": {},
   "source": [
    "### Test and training sets\n",
    "\n",
    "Definition of the test and training sets. \n",
    "\n",
    "The size of the test set depends on the size of the sample itself. \n",
    "Since the default size is 100000, 30% seems a good amount."
   ]
  },
  {
   "cell_type": "code",
   "execution_count": 5,
   "metadata": {},
   "outputs": [],
   "source": [
    "import numpy as np\n",
    "from sklearn.model_selection import train_test_split\n",
    "\n",
    "# Set the test set size to 30% \n",
    "test_size=0.3\n",
    "\n",
    "# Put together your samples\n",
    "X=np.concatenate((df_cat1, df_cat2))\n",
    "\n",
    "# Generate a column of 0 and 1, to distinguish the classes\n",
    "y=np.concatenate((np.ones(df_cat1.shape[0]), np.zeros(df_cat2.shape[0])))\n",
    "\n",
    "# Definition of the training / test samples\n",
    "X_train, X_test, y_train, y_test=train_test_split(X, y, test_size=test_size, random_state=42)\n",
    "\n",
    "##Select weights for the bdt\n",
    "X_train_we=X_train[:,cols.index(wei)]\n",
    "X_test_we=X_test[:,cols.index(wei)]\n",
    "\n",
    "# Select the features relevant for the BDT (not before because the events are shuffled)\n",
    "X_train=X_train[:,:-2]\n",
    "X_test=X_test[:,:-2]\n"
   ]
  },
  {
   "cell_type": "markdown",
   "metadata": {},
   "source": [
    "### Fit BDT\n",
    "\n",
    "Several methods can be employed and must be chosen according to the needs of the analysis. A recommended package is `scikit-learn`, and more information can be found in their [documentation](https://scikit-learn.org/stable/supervised_learning.html)\n",
    "\n",
    "Here, we chose one library: `LightGBM` ([documentation](https://lightgbm.readthedocs.io/en/stable/)) \n",
    "\n",
    "But there is also another well known one: `XGBoost` ([documentation](https://xgboost.readthedocs.io/en/stable/))\n",
    "\n"
   ]
  },
  {
   "cell_type": "code",
   "execution_count": 6,
   "metadata": {},
   "outputs": [
    {
     "name": "stdout",
     "output_type": "stream",
     "text": [
      "[LightGBM] [Info] Number of positive: 34945, number of negative: 35055\n",
      "[LightGBM] [Info] Auto-choosing col-wise multi-threading, the overhead of testing was 0.004904 seconds.\n",
      "You can set `force_col_wise=true` to remove the overhead.\n",
      "[LightGBM] [Info] Total Bins 2317\n",
      "[LightGBM] [Info] Number of data points in the train set: 70000, number of used features: 10\n",
      "[LightGBM] [Info] [binary:BoostFromScore]: pavg=0.499214 -> initscore=-0.003143\n",
      "[LightGBM] [Info] Start training from score -0.003143\n"
     ]
    }
   ],
   "source": [
    "from lightgbm import LGBMClassifier\n",
    "import pickle\n",
    "\n",
    "# Define the BDT method as LGBMClassifier with default hyperparameters\n",
    "method=LGBMClassifier()\n",
    "\n",
    "# Fit the BDT method on our training set\n",
    "method.fit(X_train, y_train, sample_weight=X_train_we)\n",
    "\n",
    "# Save the method \n",
    "pickle.dump(method, open(f'BDT_method.pkl', \"wb\"))\n",
    "\n",
    "\n"
   ]
  },
  {
   "cell_type": "markdown",
   "metadata": {},
   "source": [
    "#### BDT Performance"
   ]
  },
  {
   "cell_type": "code",
   "execution_count": 7,
   "metadata": {},
   "outputs": [
    {
     "data": {
      "image/png": "[encoded data removed]",
      "text/plain": [
       "<Figure size 504x432 with 1 Axes>"
      ]
     },
     "metadata": {
      "needs_background": "light"
     },
     "output_type": "display_data"
    }
   ],
   "source": [
    "from sklearn.metrics import roc_curve, auc\n",
    "import matplotlib.pyplot as plt\n",
    "from matplotlib.ticker import MultipleLocator\n",
    "\n",
    "# Compute false and true positive rates\n",
    "fpr, tpr, thresholds=roc_curve(y_test, method.predict_proba(X_test)[:,1], sample_weight=X_test_we)\n",
    "\n",
    "# Area under the roc curve\n",
    "roc_auc=auc(fpr, tpr)\n",
    "\n",
    "# Plot the result\n",
    "def roc_curve_plot(fpr, tpr, roc_auc, \n",
    "                   colors, linewidth, filename, \n",
    "                   plots_size=(7, 6), all_fontsize=25, withluck=False,  \n",
    "                   xlab='False Positive Rate', ylab='True Positive Rate'):\n",
    "    \n",
    "    fig, ax=plt.subplots(figsize=plots_size)\n",
    "    \n",
    "    # Plot ROC curve\n",
    "    plt.plot(fpr, tpr, color=colors[0], label='ROC curve', linewidth=linewidth)\n",
    "    \n",
    "    # Add AUC (color less points in order to decrease the figure size)\n",
    "    def takeless(npndarray):\n",
    "        lim=100\n",
    "        dist=int(len(npndarray)/lim)\n",
    "        ret=np.array([npndarray[i*dist] for i in range(lim)])\n",
    "        return np.append(ret, [npndarray[-1]])\n",
    "    \n",
    "    ax.fill_between(takeless(fpr), takeless(tpr), alpha=.2, linewidth=0, color=colors[1], \n",
    "                    label='Area=%0.3f'%(roc_auc))\n",
    "\n",
    "    if withluck: plt.plot([0, 1], [0, 1], '--', color=(0.4, 0.4, 0.4), linewidth=1) #, label='Random'\n",
    "        \n",
    "    ax.yaxis.set_major_locator(MultipleLocator(0.2))\n",
    "    ax.xaxis.set_major_locator(MultipleLocator(0.2))\n",
    "    ax.yaxis.set_minor_locator(MultipleLocator(0.05))\n",
    "    ax.xaxis.set_minor_locator(MultipleLocator(0.05))\n",
    "    ax.grid(which='major', axis='both')\n",
    "    ax.grid(which='minor', axis='both', color='whitesmoke')\n",
    "    ax.set_axisbelow(True) \n",
    "    for em in ax.xaxis.get_majorticklabels(): em.set_y(-0.02)\n",
    "    for em in ax.yaxis.get_majorticklabels(): em.set_x(-0.02)\n",
    "    \n",
    "    plt.xlim([0, 1]); plt.ylim([0, 1])\n",
    "    plt.xlabel(xlab, fontsize=all_fontsize)\n",
    "    plt.ylabel(ylab, fontsize=all_fontsize)\n",
    "    plt.xticks(fontsize=all_fontsize)\n",
    "    plt.yticks(fontsize=all_fontsize)\n",
    "    plt.legend(loc=\"lower right\", fontsize=all_fontsize-5, handlelength=0.5, handletextpad=0.3)\n",
    "    \n",
    "    if filename: plt.savefig(f\"{filename}.pdf\", bbox_inches='tight')\n",
    "    \n",
    "\n",
    "#ROC curve\n",
    "roc_curve_plot(fpr, tpr, roc_auc, ['black', '#8abd66c2'], 3, 'ROC_curve')\n",
    "\n"
   ]
  },
  {
   "cell_type": "markdown",
   "metadata": {},
   "source": [
    "#### BDT Reproducibility"
   ]
  },
  {
   "cell_type": "code",
   "execution_count": 8,
   "metadata": {},
   "outputs": [],
   "source": [
    "from scipy import stats\n",
    "\n",
    "def compare_train_test_ratio_values(clf, X_train, y_train, X_test, y_test):\n",
    "    \n",
    "    # Determine the BDT output on the training and test sets of the cat 1 and 2\n",
    "    decisions=[]\n",
    "    for X, y in ((X_train, y_train), (X_test, y_test)):\n",
    "        d1=clf.predict_proba(X[y>0.5])[:,1].ravel() ##look for ones, cat 1\n",
    "        d2=clf.predict_proba(X[y<0.5])[:,1].ravel() ##look for zeros cat 2\n",
    "        decisions+=[d1, d2]\n",
    "\n",
    "    # Compute the Kolmogorov-Smirnov test\n",
    "    ksst1, kspv1=stats.ks_2samp(decisions[0], decisions[2]) #cat 1, train test\n",
    "    ksst2, kspv2=stats.ks_2samp(decisions[1], decisions[3]) #cat 2, train test\n",
    "\n",
    "    return [decisions, ksst1, ksst2, kspv1, kspv2]\n",
    "\n",
    "# First, get the BDT output of the test and training sets\n",
    "vals_overfit=compare_train_test_ratio_values(method, X_train, y_train, X_test, y_test)\n"
   ]
  },
  {
   "cell_type": "code",
   "execution_count": 9,
   "metadata": {},
   "outputs": [
    {
     "data": {
      "image/png": "[encoded data removed]",
      "text/plain": [
       "<Figure size 576x432 with 2 Axes>"
      ]
     },
     "metadata": {
      "needs_background": "light"
     },
     "output_type": "display_data"
    }
   ],
   "source": [
    "from uncertainties import ufloat\n",
    "from uncertainties.umath import *\n",
    "from matplotlib.ticker import LinearLocator\n",
    "\n",
    "\n",
    "def compare_train_test_ratio_plot(list_values, label_list, colors, \n",
    "                                  yaxis, pulselim, filename,\n",
    "                                  cats='S (B)', plots_size=(8, 6), all_fontsize=25, leg_fontsize=15, \n",
    "                                  bins=40, alph=0.5, yax='Events', low_high=[0, 1], \n",
    "                                  weights=4*[None], xlims_corr=[0.2, 4], ncols=2):\n",
    "    \n",
    "    fig, (ax, ax2)=plt.subplots(nrows=2, ncols=1, figsize=plots_size, sharex=True, \n",
    "                                gridspec_kw={'height_ratios': [6, 1]})\n",
    "    \n",
    "    fig.subplots_adjust(wspace=0.1, hspace=0.15)\n",
    "    \n",
    "    decisions, ksst1, ksst2, kspv1, kspv2 = list_values\n",
    "\n",
    "    #plot 1 ------------------------------- signal train \n",
    "    hist_sn, bins_sn, other=ax.hist(decisions[0], color=colors[0], alpha=alph, range=low_high, bins=bins, \n",
    "                                    histtype='stepfilled', label=label_list[0], \n",
    "                                    density=True, weights=weights[0])\n",
    "    width=(bins_sn[1]-bins_sn[0]); center=(bins_sn[:-1]+bins_sn[1:])/2\n",
    "\n",
    "    scale_sn=len(decisions[0])/sum(hist_sn); err_sn=np.sqrt(hist_sn*scale_sn)/scale_sn\n",
    "    val_err_sn=[ufloat(hist_sn[i], err_sn[i]) for i in range(bins)]\n",
    "\n",
    "    #plot 2 -------------------------------- bkg train \n",
    "    hist_bn, bins_bn, other=ax.hist(decisions[1], color=colors[1], alpha=alph, range=low_high, bins=bins, \n",
    "                                    histtype='stepfilled', label=label_list[1], \n",
    "                                    density=True, weights=weights[1])\n",
    "    scale_bn=len(decisions[1])/sum(hist_bn); err_bn=np.sqrt(hist_bn*scale_bn)/scale_bn\n",
    "    val_err_bn=[ufloat(hist_bn[i], err_bn[i]) for i in range(bins)]\n",
    "\n",
    "    #plot 3 ------------------------------- signal test \n",
    "    hist_st, bins_st=np.histogram(decisions[2], bins=bins, range=low_high, \n",
    "                                    density=True, weights=weights[2])\n",
    "    scale_st=len(decisions[2])/sum(hist_st); err_st=np.sqrt((hist_st*scale_st).astype(float))/scale_st\n",
    "    val_err_st=[ufloat(hist_st[i], err_st[i]) for i in range(bins)]\n",
    "    ax.plot(center, hist_st, marker='o', c=colors[0], label=label_list[2], linestyle='None')\n",
    "\n",
    "    #plot 4 ------------------------------- bkg test \n",
    "    hist_bt, bins_bt=np.histogram(decisions[3], bins=bins, range=low_high, \n",
    "                                    density=True, weights=weights[3])\n",
    "    scale_bt=len(decisions[3])/sum(hist_bt); err_bt=np.sqrt((hist_bt*scale_bt).astype(float))/scale_bt\n",
    "    val_err_bt=[ufloat(hist_bt[i], err_bt[i]) for i in range(bins)]\n",
    "    ax.plot(center, hist_bt, marker='o', c=colors[1], label=label_list[3], linestyle='None')\n",
    "\n",
    "    \n",
    "    ax.set_ylabel('a. u.', fontsize=all_fontsize)\n",
    "    \n",
    "    ax.legend(loc='upper center', fontsize=leg_fontsize, ncol=ncols, columnspacing=0.5, \n",
    "              handlelength=0.3, handletextpad=0.3)\n",
    "    \n",
    "    ax.set_xlim([0, 1])\n",
    "    \n",
    "    ax.xaxis.set_major_locator(MultipleLocator(0.2))\n",
    "    ax.xaxis.set_minor_locator(MultipleLocator(0.05))\n",
    "    ax.set_axisbelow(True) \n",
    "    ax.grid(which='major', axis='both')\n",
    "    ax.grid(which='minor', axis='both', color='whitesmoke')\n",
    "    \n",
    "    if yaxis=='log': \n",
    "        ax.set_yscale(yaxis)\n",
    "    if yaxis=='linear': \n",
    "        allvalues=np.concatenate((hist_sn, hist_bn, hist_st, hist_bt), axis=None)\n",
    "        ax.set_ylim([0, max(allvalues)+0.05*max(allvalues)])\n",
    "        ax.yaxis.set_major_locator(MultipleLocator(5))\n",
    "        ax.yaxis.set_minor_locator(MultipleLocator(1))\n",
    "    \n",
    "    ax.tick_params(axis='x', labelsize=all_fontsize-5)\n",
    "    ax.tick_params(axis='y', labelsize=all_fontsize-5)\n",
    "\n",
    "    # Ratio below the plot\n",
    "    vals_s=[]; vals_b=[]; center_s=[]; center_b=[]\n",
    "    for i in range(bins):\n",
    "        if hist_sn[i]!=0 and hist_st[i]!=0:\n",
    "            center_s.append(center[i])\n",
    "            ra_s=(val_err_st[i]-val_err_sn[i])/val_err_st[i]\n",
    "            vals_s.append(ra_s.n)\n",
    "        if hist_bn[i]!=0 and hist_bt[i]!=0:\n",
    "            center_b.append(center[i])\n",
    "            ra_b=(val_err_bt[i]-val_err_bn[i])/val_err_bt[i]\n",
    "            vals_b.append(ra_b.n)\n",
    "\n",
    "    ax2.plot(center_s, vals_s, markersize=10, marker='.', color=colors[0], linestyle='None')\n",
    "    ax2.plot(center_b, vals_b, markersize=10, marker='.', color=colors[1], linestyle='None')\n",
    "    \n",
    "    for i in range(len(bins_sn)-1):\n",
    "        ax2.fill_between([bins_sn[i], bins_sn[i+1]], vals_s[i], 0, color=colors[0], ec=colors[0], alpha=0.3, linewidth=0)\n",
    "        ax2.fill_between([bins_bn[i], bins_bn[i+1]], vals_b[i], 0, color=colors[1], ec=colors[1], alpha=0.3, linewidth=0)\n",
    "\n",
    "    ax2.plot([-1, 2], [0, 0], 'k-', lw=2)    \n",
    "    \n",
    "    ax2.set_xlabel(\"BDT output\", fontsize=all_fontsize)\n",
    "    ax2.set_axisbelow(True) \n",
    "    ax2.grid(which='major', axis='both')\n",
    "    ax2.grid(which='minor', axis='both', color='whitesmoke')\n",
    "\n",
    "    ax2.set_ylim([-pulselim, pulselim])\n",
    "    ax2.yaxis.set_major_locator(LinearLocator(3))\n",
    "    ax2.yaxis.set_minor_locator(MultipleLocator(0.25))\n",
    "    ax2.set_ylabel(r'$\\frac{test - train}{test}$', size=all_fontsize)\n",
    "\n",
    "    ax2.tick_params(axis='y', labelsize=all_fontsize-5)\n",
    "    ax2.tick_params(axis='x', labelsize=all_fontsize-5)\n",
    "    for em in ax2.xaxis.get_majorticklabels(): em.set_y(-0.12)\n",
    "\n",
    "        \n",
    "    # Write result of the K-S test\n",
    "    setlim=3\n",
    "    setlimval=1e-3\n",
    "    si_ksst1='='; si_kspv1='='; si_ksst2='='; si_kspv2='='\n",
    "    if ksst1<setlimval: ksst1=setlimval; si_ksst1='<'\n",
    "    if kspv1<setlimval: kspv1=setlimval; si_kspv1='<'\n",
    "    if ksst2<setlimval: ksst2=setlimval; si_ksst2='<'\n",
    "    if kspv2<setlimval: kspv2=setlimval; si_kspv2='<'\n",
    "\n",
    "    titl_str=(\"K-S test: \"+cats+\n",
    "              \": s\"+si_ksst1+\"{1:.{0}f}\".format(setlim, ksst1)+\n",
    "              \", p\"+si_kspv1+\"{1:.{0}f}\".format(setlim, kspv1)+\n",
    "              \" (s\"+si_ksst2+\"{1:.{0}f}\".format(setlim, ksst2)+\n",
    "              \", p\"+si_kspv2+\"{1:.{0}f})\".format(setlim, kspv2)) \n",
    "\n",
    "    ax.set_title(titl_str, loc='center', fontsize=all_fontsize-10, y=1.02, wrap=True)\n",
    "    \n",
    "    # Save figure\n",
    "    if filename: plt.savefig(f\"{filename}.pdf\", bbox_inches='tight')\n",
    "\n",
    "# Then, plot the test and training set\n",
    "labels=[r'Cat1', 'Cat2']\n",
    "labels_plot=[labels[0]+' (train)', labels[1]+' (train)', labels[0]+' (test)', labels[1]+' (test)']\n",
    "\n",
    "#with Kolmogorov–Smirnov test on top (evaluates with a number how  much overfitting there is)\n",
    "compare_train_test_ratio_plot(vals_overfit, labels_plot, ['#2145b882', '#e67500a3'], \n",
    "                              \"linear\", 0.5, 'Overfitting_lin', \n",
    "                              cats=labels[0]+' ('+labels[1]+')', \n",
    "                              weights=[X_train_we[y_train>0.5], X_train_we[y_train<0.5], \n",
    "                                       X_test_we[y_test>0.5], X_test_we[y_test<0.5]])\n",
    "\n",
    "\n"
   ]
  },
  {
   "cell_type": "markdown",
   "metadata": {},
   "source": [
    "### BDT output"
   ]
  },
  {
   "cell_type": "code",
   "execution_count": 10,
   "metadata": {},
   "outputs": [
    {
     "data": {
      "image/png": "[encoded data removed]",
      "text/plain": [
       "<Figure size 576x432 with 1 Axes>"
      ]
     },
     "metadata": {
      "needs_background": "light"
     },
     "output_type": "display_data"
    }
   ],
   "source": [
    "from matplotlib.ticker import LogLocator\n",
    "\n",
    "def plot_classifier(list_y_predicted, nb_bins, col, lab, lab_loc, yaxis,\n",
    "                    filename,\n",
    "                    plots_size=(8, 6), yax='Counts', al=0.6, all_fontsize=22, leg_fontsize=15, \n",
    "                    weights=[], edgecol=None, x_range=[0, 1]):\n",
    "    \n",
    "    fig, ax=plt.subplots(figsize=plots_size)\n",
    "    \n",
    "    if not weights: weights=len(list_y_predicted)*[None]\n",
    "    \n",
    "    low, high=x_range\n",
    "    histdiv=(high-low)/nb_bins\n",
    "\n",
    "    plt.hist(list_y_predicted[0], color=col[0], range=[low, high], bins=nb_bins, histtype='step', \n",
    "             label=lab[0], linewidth=2, weights=weights[0])\n",
    "    \n",
    "    if len(list_y_predicted)>1:\n",
    "        plt.hist(list_y_predicted[1:], color=col[1:], range=[low, high], bins=nb_bins, histtype='stepfilled', \n",
    "                 label=lab[1:], linewidth=1, weights=weights[1:], alpha=al, stacked=True, edgecolor=edgecol)\n",
    "        \n",
    "    plt.xlabel(\"BDT output\", fontsize=all_fontsize)\n",
    "    plt.ylabel(yax+' / %0.2f'%(histdiv), fontsize=all_fontsize)\n",
    "    plt.legend(loc=lab_loc, fontsize=leg_fontsize, handlelength=1, handletextpad=0.3, labelspacing=0.3)\n",
    "    plt.xticks(fontsize=all_fontsize)\n",
    "    plt.yticks(fontsize=all_fontsize)\n",
    "    \n",
    "    ax.xaxis.set_major_locator(MultipleLocator(0.2))\n",
    "    ax.xaxis.set_minor_locator(MultipleLocator(0.05))\n",
    "    \n",
    "    ax.set_xlim(x_range)\n",
    "    ax.set_yscale(yaxis)\n",
    "    if yaxis=='log': \n",
    "        ax.yaxis.set_major_locator(LogLocator(base=10.0, numticks=5))\n",
    "    elif yaxis=='linear': \n",
    "        ax.ticklabel_format(style='sci', axis='y', scilimits=(0,0))\n",
    "        t=ax.yaxis.get_offset_text()\n",
    "        t.set_fontsize(all_fontsize-5)\n",
    "    for em in ax.xaxis.get_majorticklabels(): em.set_y(-0.02)\n",
    "    for em in ax.yaxis.get_majorticklabels(): em.set_x(-0.02)\n",
    "        \n",
    "    ax.set_axisbelow(True)\n",
    "    ax.grid(which='major', axis='both')\n",
    "    ax.grid(which='minor', axis='both', color='whitesmoke')\n",
    "    \n",
    "    if filename: plt.savefig(f\"{filename}.pdf\", bbox_inches='tight')\n",
    "\n",
    "\n",
    "\n",
    "\n",
    "decision_X=method.predict_proba(X[:,0:-2])[:,1]\n",
    "decision_cat1=method.predict_proba(df_cat1[df_cat1.columns[:-2]])[:,1]\n",
    "decision_cat2=method.predict_proba(df_cat2[df_cat2.columns[:-2]])[:,1]\n",
    "\n",
    "\n",
    "X_wei=X[:,list(df_cat1.columns).index(wei)]\n",
    "df_cat1_wei=df_cat1[wei].to_numpy()\n",
    "df_cat2_wei=df_cat2[wei].to_numpy()\n",
    "\n",
    "\n",
    "leg_class=['Classifier', 'Cat1', 'Cat2']\n",
    "\n",
    "plot_classifier([decision_X, decision_cat1, decision_cat2], 40, ['black', '#2145b882', '#e67500a3'], \n",
    "                leg_class, 'upper center', 'linear', 'Classifier_stack_lin', \n",
    "                weights=[X_wei, df_cat1_wei, df_cat2_wei])\n",
    "\n"
   ]
  },
  {
   "cell_type": "markdown",
   "metadata": {},
   "source": [
    "### Save the Dataframe with the BDT output saved as a column"
   ]
  },
  {
   "cell_type": "code",
   "execution_count": 11,
   "metadata": {},
   "outputs": [
    {
     "name": "stdout",
     "output_type": "stream",
     "text": [
      "              a         b          c    d         e         f    g         h  \\\n",
      "0      3.863403  0.778973  12.946646  489  0.871213  0.033967  227  0.981583   \n",
      "1      5.046944 -0.442038  23.305970  509  0.600349  3.773768  234  0.513771   \n",
      "2      6.446498  1.500218  17.340156  504  2.235587  0.166467  251  2.038727   \n",
      "3      7.555237  0.227320   7.548010  486  3.726162  1.393235  251  0.522864   \n",
      "4      5.849820  1.143522   8.982487  477  7.757577  0.414826  239  2.865683   \n",
      "...         ...       ...        ...  ...       ...       ...  ...       ...   \n",
      "99995  5.291775 -0.449244   1.298263  460  7.275139  0.676796  280  1.019964   \n",
      "99996  6.696291  3.010353  14.831392  506  1.125645  0.116567  272  0.921327   \n",
      "99997  6.532237 -0.278088   3.923387  492  8.262313  0.172891  249  1.378034   \n",
      "99998  5.213979  0.505269  22.187842  509  2.441799  0.610413  254  0.485675   \n",
      "99999  7.748984  2.195952   9.598227  516  0.685071  1.201439  271  2.616782   \n",
      "\n",
      "              i         j  dataset  weight  Basic_BDT_output  \n",
      "0      1.336080  0.795312        2       1          0.128814  \n",
      "1      1.422002  0.963959        1       1          0.606636  \n",
      "2     -0.142134  0.761682        1       1          0.938869  \n",
      "3     -0.501831  0.832177        1       1          0.945655  \n",
      "4     -1.167011  0.644446        2       1          0.279488  \n",
      "...         ...       ...      ...     ...               ...  \n",
      "99995  1.309129  0.914109        1       1          0.996172  \n",
      "99996  0.638908  0.923751        1       1          0.996629  \n",
      "99997  0.260166  0.860722        1       1          0.814470  \n",
      "99998 -0.678037  0.867635        1       1          0.988272  \n",
      "99999  0.082304  0.998992        1       1          0.997201  \n",
      "\n",
      "[100000 rows x 13 columns]\n"
     ]
    }
   ],
   "source": [
    "# Add the BDT output column\n",
    "df['Basic_BDT_output']=method.predict_proba(df[df.columns[:-2]])[:,1].tolist()\n",
    "\n",
    "# Print the Dataframe\n",
    "print(df)\n",
    "\n",
    "# Save the Dataframe\n",
    "pickle.dump(df, open(f'dataset_2classes_basicBDT.pkl', \"wb\"))"
   ]
  },
  {
   "cell_type": "code",
   "execution_count": null,
   "metadata": {},
   "outputs": [],
   "source": []
  },
  {
   "cell_type": "code",
   "execution_count": null,
   "metadata": {},
   "outputs": [],
   "source": []
  }
 ],
 "metadata": {
  "kernelspec": {
   "display_name": "Python 3",
   "language": "python",
   "name": "python3"
  },
  "language_info": {
   "codemirror_mode": {
    "name": "ipython",
    "version": 3
   },
   "file_extension": ".py",
   "mimetype": "text/x-python",
   "name": "python",
   "nbconvert_exporter": "python",
   "pygments_lexer": "ipython3",
   "version": "3.7.6"
  }
 },
 "nbformat": 4,
 "nbformat_minor": 4
}
