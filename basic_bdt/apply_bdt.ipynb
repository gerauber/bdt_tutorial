{
 "cells": [
  {
   "cell_type": "markdown",
   "metadata": {},
   "source": [
    "# BDT \n",
    "\n",
    "##### author: G. Räuber, 2024\n",
    "\n",
    "\n",
    "## Content\n",
    "\n",
    "In this notebook, we will follow several steps:\n",
    "* Read a dataset (created with dataset/create_pkl.py)\n",
    "* Apply a BDT trained separately\n",
    "* Plot the output\n"
   ]
  },
  {
   "cell_type": "markdown",
   "metadata": {},
   "source": [
    "### Read dataset\n",
    "\n",
    "Read the Dataset that we created\n"
   ]
  },
  {
   "cell_type": "code",
   "execution_count": 1,
   "metadata": {},
   "outputs": [
    {
     "name": "stdout",
     "output_type": "stream",
     "text": [
      "create_pkl.py          dataset_2classes_2.pkl\r\n",
      "dataset_2classes.pkl   \u001b[34mfigures\u001b[m\u001b[m\r\n"
     ]
    }
   ],
   "source": [
    "# Look what is the name of your .pkl file\n",
    "!ls ../dataset"
   ]
  },
  {
   "cell_type": "code",
   "execution_count": 2,
   "metadata": {},
   "outputs": [
    {
     "name": "stdout",
     "output_type": "stream",
     "text": [
      "              a         b          c    d         e         f    g         h  \\\n",
      "0      5.422735  1.294476  25.344766  472  0.220693  1.084394  244  1.327170   \n",
      "1      5.230961  1.865375  18.115212  517  6.067707  0.949532  226  1.646190   \n",
      "2      6.989023  0.004058  18.042798  489  5.364052  0.129856  233  2.198825   \n",
      "3      4.730476 -1.745070  21.200347  514  5.358172  0.910126  243  1.594229   \n",
      "4      8.241837  2.420643   8.975838  516  4.576160  2.094501  248  1.453769   \n",
      "...         ...       ...        ...  ...       ...       ...  ...       ...   \n",
      "99995  5.094527  0.196066  17.852030  517  1.027752  0.663796  244  2.743563   \n",
      "99996  8.465458  0.478518  25.407836  479  0.551162  0.442243  222  1.001722   \n",
      "99997  5.725134  1.306830  22.652548  478  1.424515  0.738830  248  0.648758   \n",
      "99998  8.004729 -0.235217  12.060777  502  0.878653  0.044133  216  0.953797   \n",
      "99999  6.753483  0.218647   2.628925  497  1.339768  0.888563  250  0.853363   \n",
      "\n",
      "              i         j  dataset  weight  \n",
      "0      0.749297  0.505070        1       1  \n",
      "1      0.408807  0.907691        2       1  \n",
      "2     -0.411614  0.649558        2       1  \n",
      "3      0.294397  0.580224        1       1  \n",
      "4      0.045183  0.971894        1       1  \n",
      "...         ...       ...      ...     ...  \n",
      "99995  1.331223  0.959258        2       1  \n",
      "99996 -0.472809  0.634155        2       1  \n",
      "99997  1.125048  0.855419        1       1  \n",
      "99998 -1.917093  0.893371        2       1  \n",
      "99999  1.614910  0.533406        1       1  \n",
      "\n",
      "[100000 rows x 12 columns]\n"
     ]
    }
   ],
   "source": [
    "# Read the Dataframe:\n",
    "import pandas as pd\n",
    "df=pd.read_pickle('../dataset/dataset_2classes_2.pkl')\n",
    "\n",
    "# Print the Dataframe\n",
    "print(df)"
   ]
  },
  {
   "cell_type": "markdown",
   "metadata": {},
   "source": [
    "### Features\n",
    "\n",
    "Make sure that the features used to determine the BDT method are stored in the Dataframe"
   ]
  },
  {
   "cell_type": "code",
   "execution_count": 3,
   "metadata": {},
   "outputs": [
    {
     "name": "stdout",
     "output_type": "stream",
     "text": [
      "['a', 'b', 'c', 'd', 'e', 'f', 'g', 'h', 'i', 'j', 'dataset', 'weight']\n"
     ]
    }
   ],
   "source": [
    "# Print the columns of your dataset\n",
    "cols=list(df.columns)\n",
    "print(cols)\n",
    "\n",
    "# Set of features used for the BDT\n",
    "feats=['a', 'b', 'c', 'd', 'e', 'f', 'g', 'h', 'i', 'j']\n",
    "\n",
    "# Define the weight\n",
    "wei='weight'\n",
    "\n",
    "for fe in feats:\n",
    "    assert fe in cols"
   ]
  },
  {
   "cell_type": "markdown",
   "metadata": {},
   "source": [
    "### Test and training sets\n",
    "\n",
    "Definition of the test and training sets. \n",
    "\n",
    "The size of the test set depends on the size of the sample itself. \n",
    "Since the default size is 100000, 30% seems a good amount."
   ]
  },
  {
   "cell_type": "code",
   "execution_count": 4,
   "metadata": {},
   "outputs": [],
   "source": [
    "import numpy as np \n",
    "\n",
    "#dataframe containing all features\n",
    "X=df.to_numpy()\n",
    "\n",
    "#vector added to the dataframe with the two categories specified\n",
    "y=np.ones(df.shape[0])\n",
    "\n",
    "##select weights for the bdt\n",
    "X_apply_we=X[:,list(df.columns).index(wei)]\n",
    "\n",
    "#select here the features relevant for the BDT\n",
    "#not before because the events are shuffled\n",
    "X_apply=X[:,:-2]\n",
    "\n"
   ]
  },
  {
   "cell_type": "markdown",
   "metadata": {},
   "source": [
    "### Fit BDT\n",
    "\n",
    "Call the method determined by `bdt.ipynb`, and apply it on this sample\n",
    "\n"
   ]
  },
  {
   "cell_type": "code",
   "execution_count": 5,
   "metadata": {},
   "outputs": [
    {
     "name": "stdout",
     "output_type": "stream",
     "text": [
      "BDT_method.pkl                  dataset_2classes_2_basicBDT.pkl\r\n",
      "Classifier_stack_lin.pdf        dataset_2classes_basicBDT.pkl\r\n",
      "apply_bdt.ipynb                 \u001b[34mfigures\u001b[m\u001b[m\r\n",
      "bdt.ipynb\r\n"
     ]
    }
   ],
   "source": [
    "# Look what is the name of your file\n",
    "!ls ."
   ]
  },
  {
   "cell_type": "code",
   "execution_count": 6,
   "metadata": {},
   "outputs": [],
   "source": [
    "import pickle\n",
    "\n",
    "# Call method\n",
    "method=pickle.load(open('BDT_method.pkl', \"rb\"))\n",
    "\n",
    "# Get prediction from method\n",
    "decision_X=method.predict_proba(X_apply)[:,1]\n",
    "\n"
   ]
  },
  {
   "cell_type": "markdown",
   "metadata": {},
   "source": [
    "### BDT output"
   ]
  },
  {
   "cell_type": "code",
   "execution_count": 7,
   "metadata": {},
   "outputs": [
    {
     "data": {
      "image/png": "[encoded data removed]",
      "text/plain": [
       "<Figure size 576x432 with 1 Axes>"
      ]
     },
     "metadata": {
      "needs_background": "light"
     },
     "output_type": "display_data"
    }
   ],
   "source": [
    "import matplotlib.pyplot as plt\n",
    "from matplotlib.ticker import LogLocator\n",
    "from matplotlib.ticker import MultipleLocator\n",
    "\n",
    "def plot_classifier(list_y_predicted, nb_bins, col, lab, lab_loc, yaxis,\n",
    "                    filename,\n",
    "                    plots_size=(8, 6), yax='Counts', al=0.6, all_fontsize=22, leg_fontsize=15, \n",
    "                    weights=[], edgecol=None, x_range=[0, 1]):\n",
    "    \n",
    "    fig, ax=plt.subplots(figsize=plots_size)\n",
    "    \n",
    "    if not weights: weights=len(list_y_predicted)*[None]\n",
    "    \n",
    "    low, high=x_range\n",
    "    histdiv=(high-low)/nb_bins\n",
    "\n",
    "    plt.hist(list_y_predicted[0], color=col[0], range=[low, high], bins=nb_bins, histtype='step', \n",
    "             label=lab[0], linewidth=2, weights=weights[0])\n",
    "    \n",
    "    if len(list_y_predicted)>1:\n",
    "        plt.hist(list_y_predicted[1:], color=col[1:], range=[low, high], bins=nb_bins, histtype='stepfilled', \n",
    "                 label=lab[1:], linewidth=1, weights=weights[1:], alpha=al, stacked=True, edgecolor=edgecol)\n",
    "        \n",
    "    plt.xlabel(\"BDT output\", fontsize=all_fontsize)\n",
    "    plt.ylabel(yax+' / %0.2f'%(histdiv), fontsize=all_fontsize)\n",
    "    plt.legend(loc=lab_loc, fontsize=leg_fontsize, handlelength=1, handletextpad=0.3, labelspacing=0.3)\n",
    "    plt.xticks(fontsize=all_fontsize)\n",
    "    plt.yticks(fontsize=all_fontsize)\n",
    "    \n",
    "    ax.xaxis.set_major_locator(MultipleLocator(0.2))\n",
    "    ax.xaxis.set_minor_locator(MultipleLocator(0.05))\n",
    "    \n",
    "    ax.set_xlim(x_range)\n",
    "    ax.set_yscale(yaxis)\n",
    "    if yaxis=='log': \n",
    "        ax.yaxis.set_major_locator(LogLocator(base=10.0, numticks=5))\n",
    "    elif yaxis=='linear': \n",
    "        ax.ticklabel_format(style='sci', axis='y', scilimits=(0,0))\n",
    "        t=ax.yaxis.get_offset_text()\n",
    "        t.set_fontsize(all_fontsize-5)\n",
    "    for em in ax.xaxis.get_majorticklabels(): em.set_y(-0.02)\n",
    "    for em in ax.yaxis.get_majorticklabels(): em.set_x(-0.02)\n",
    "        \n",
    "    ax.set_axisbelow(True)\n",
    "    ax.grid(which='major', axis='both')\n",
    "    ax.grid(which='minor', axis='both', color='whitesmoke')\n",
    "    \n",
    "    if filename: plt.savefig(f\"{filename}.pdf\", bbox_inches='tight')\n",
    "\n",
    "\n",
    "\n",
    "\n",
    "leg_class=['Classifier']\n",
    "\n",
    "plot_classifier([decision_X], 40, ['black'], \n",
    "                leg_class, 'upper center', 'linear', 'Classifier_stack_lin', \n",
    "                weights=[X_apply_we])\n",
    "\n"
   ]
  },
  {
   "cell_type": "markdown",
   "metadata": {},
   "source": [
    "### Save the Dataframe with the BDT output saved as a column"
   ]
  },
  {
   "cell_type": "code",
   "execution_count": 8,
   "metadata": {},
   "outputs": [
    {
     "name": "stdout",
     "output_type": "stream",
     "text": [
      "              a         b          c    d         e         f    g         h  \\\n",
      "0      5.422735  1.294476  25.344766  472  0.220693  1.084394  244  1.327170   \n",
      "1      5.230961  1.865375  18.115212  517  6.067707  0.949532  226  1.646190   \n",
      "2      6.989023  0.004058  18.042798  489  5.364052  0.129856  233  2.198825   \n",
      "3      4.730476 -1.745070  21.200347  514  5.358172  0.910126  243  1.594229   \n",
      "4      8.241837  2.420643   8.975838  516  4.576160  2.094501  248  1.453769   \n",
      "...         ...       ...        ...  ...       ...       ...  ...       ...   \n",
      "99995  5.094527  0.196066  17.852030  517  1.027752  0.663796  244  2.743563   \n",
      "99996  8.465458  0.478518  25.407836  479  0.551162  0.442243  222  1.001722   \n",
      "99997  5.725134  1.306830  22.652548  478  1.424515  0.738830  248  0.648758   \n",
      "99998  8.004729 -0.235217  12.060777  502  0.878653  0.044133  216  0.953797   \n",
      "99999  6.753483  0.218647   2.628925  497  1.339768  0.888563  250  0.853363   \n",
      "\n",
      "              i         j  dataset  weight  Basic_BDT_output  \n",
      "0      0.749297  0.505070        1       1          0.789673  \n",
      "1      0.408807  0.907691        2       1          0.168006  \n",
      "2     -0.411614  0.649558        2       1          0.121542  \n",
      "3      0.294397  0.580224        1       1          0.845352  \n",
      "4      0.045183  0.971894        1       1          0.914151  \n",
      "...         ...       ...      ...     ...               ...  \n",
      "99995  1.331223  0.959258        2       1          0.575296  \n",
      "99996 -0.472809  0.634155        2       1          0.050712  \n",
      "99997  1.125048  0.855419        1       1          0.879498  \n",
      "99998 -1.917093  0.893371        2       1          0.014465  \n",
      "99999  1.614910  0.533406        1       1          0.905858  \n",
      "\n",
      "[100000 rows x 13 columns]\n"
     ]
    }
   ],
   "source": [
    "# Add the BDT output column\n",
    "df['Basic_BDT_output']=method.predict_proba(df[df.columns[:-2]])[:,1].tolist()\n",
    "\n",
    "# Print the Dataframe\n",
    "print(df)\n",
    "\n",
    "# Save the Dataframe\n",
    "pickle.dump(df, open(f'dataset_2classes_2_basicBDT.pkl', \"wb\"))"
   ]
  },
  {
   "cell_type": "code",
   "execution_count": null,
   "metadata": {},
   "outputs": [],
   "source": []
  },
  {
   "cell_type": "code",
   "execution_count": null,
   "metadata": {},
   "outputs": [],
   "source": []
  }
 ],
 "metadata": {
  "kernelspec": {
   "display_name": "Python 3",
   "language": "python",
   "name": "python3"
  },
  "language_info": {
   "codemirror_mode": {
    "name": "ipython",
    "version": 3
   },
   "file_extension": ".py",
   "mimetype": "text/x-python",
   "name": "python",
   "nbconvert_exporter": "python",
   "pygments_lexer": "ipython3",
   "version": "3.7.6"
  }
 },
 "nbformat": 4,
 "nbformat_minor": 4
}
